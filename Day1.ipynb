{
  "nbformat": 4,
  "nbformat_minor": 0,
  "metadata": {
    "colab": {
      "provenance": [],
      "authorship_tag": "ABX9TyOhjAEkNzGovZcvmt5US5dR",
      "include_colab_link": true
    },
    "kernelspec": {
      "name": "python3",
      "display_name": "Python 3"
    },
    "language_info": {
      "name": "python"
    }
  },
  "cells": [
    {
      "cell_type": "markdown",
      "metadata": {
        "id": "view-in-github",
        "colab_type": "text"
      },
      "source": [
        "<a href=\"https://colab.research.google.com/github/Chiranjeevi141004/Pyhton_Operators/blob/main/Day1.ipynb\" target=\"_parent\"><img src=\"https://colab.research.google.com/assets/colab-badge.svg\" alt=\"Open In Colab\"/></a>"
      ]
    },
    {
      "cell_type": "markdown",
      "source": [
        "# Operators"
      ],
      "metadata": {
        "id": "cpxb-lvVWQxg"
      }
    },
    {
      "cell_type": "markdown",
      "source": [
        "**Airthmetic** **Operators**"
      ],
      "metadata": {
        "id": "3SS1r-qwWvr9"
      }
    },
    {
      "cell_type": "code",
      "execution_count": null,
      "metadata": {
        "id": "TH5nDuGxS5LN"
      },
      "outputs": [],
      "source": [
        "a=8\n",
        "b=2"
      ]
    },
    {
      "cell_type": "code",
      "source": [
        "a+b"
      ],
      "metadata": {
        "colab": {
          "base_uri": "https://localhost:8080/"
        },
        "id": "8YNlC0u7TEng",
        "outputId": "e38c6af8-2f59-4476-a8ac-9f8203a8db18"
      },
      "execution_count": null,
      "outputs": [
        {
          "output_type": "execute_result",
          "data": {
            "text/plain": [
              "10"
            ]
          },
          "metadata": {},
          "execution_count": 4
        }
      ]
    },
    {
      "cell_type": "code",
      "source": [
        "a-b"
      ],
      "metadata": {
        "colab": {
          "base_uri": "https://localhost:8080/"
        },
        "id": "W6ZaD7-5TFEy",
        "outputId": "0259c5ce-d49f-4605-f3a8-ffe9003b2112"
      },
      "execution_count": null,
      "outputs": [
        {
          "output_type": "execute_result",
          "data": {
            "text/plain": [
              "6"
            ]
          },
          "metadata": {},
          "execution_count": 5
        }
      ]
    },
    {
      "cell_type": "code",
      "source": [
        "a*b"
      ],
      "metadata": {
        "colab": {
          "base_uri": "https://localhost:8080/"
        },
        "id": "mYHNTSnpTFH5",
        "outputId": "6520ff3d-44dc-4803-a11d-2c303d15ce50"
      },
      "execution_count": null,
      "outputs": [
        {
          "output_type": "execute_result",
          "data": {
            "text/plain": [
              "16"
            ]
          },
          "metadata": {},
          "execution_count": 6
        }
      ]
    },
    {
      "cell_type": "code",
      "source": [
        "a/b"
      ],
      "metadata": {
        "colab": {
          "base_uri": "https://localhost:8080/"
        },
        "id": "jezQNHqvTFLu",
        "outputId": "8a24909b-0154-43e5-9b0a-9be9db9f9205"
      },
      "execution_count": null,
      "outputs": [
        {
          "output_type": "execute_result",
          "data": {
            "text/plain": [
              "4.0"
            ]
          },
          "metadata": {},
          "execution_count": 7
        }
      ]
    },
    {
      "cell_type": "code",
      "source": [
        "a**b"
      ],
      "metadata": {
        "colab": {
          "base_uri": "https://localhost:8080/"
        },
        "id": "h-U9MoHDTFOY",
        "outputId": "1043d962-1a77-4090-f12c-e03373f2a11f"
      },
      "execution_count": null,
      "outputs": [
        {
          "output_type": "execute_result",
          "data": {
            "text/plain": [
              "64"
            ]
          },
          "metadata": {},
          "execution_count": 8
        }
      ]
    },
    {
      "cell_type": "code",
      "source": [
        "a%b"
      ],
      "metadata": {
        "colab": {
          "base_uri": "https://localhost:8080/"
        },
        "id": "Ps7UFX-pTFRq",
        "outputId": "21d41408-752c-4a84-f997-b6b6624ef741"
      },
      "execution_count": null,
      "outputs": [
        {
          "output_type": "execute_result",
          "data": {
            "text/plain": [
              "0"
            ]
          },
          "metadata": {},
          "execution_count": 9
        }
      ]
    },
    {
      "cell_type": "code",
      "source": [
        "a//b"
      ],
      "metadata": {
        "colab": {
          "base_uri": "https://localhost:8080/"
        },
        "id": "_vO3JR0NTFU_",
        "outputId": "79f0a935-7403-4cf1-ecf6-9bc95ff93a5c"
      },
      "execution_count": null,
      "outputs": [
        {
          "output_type": "execute_result",
          "data": {
            "text/plain": [
              "4"
            ]
          },
          "metadata": {},
          "execution_count": 10
        }
      ]
    },
    {
      "cell_type": "markdown",
      "source": [
        "**Relational** **Operators**"
      ],
      "metadata": {
        "id": "jW4ORhMhW5ZK"
      }
    },
    {
      "cell_type": "code",
      "source": [
        "a > b"
      ],
      "metadata": {
        "colab": {
          "base_uri": "https://localhost:8080/"
        },
        "id": "WHH3DO7ATFYB",
        "outputId": "b85fddb8-f13d-4213-9b77-ece588c75ea2"
      },
      "execution_count": null,
      "outputs": [
        {
          "output_type": "execute_result",
          "data": {
            "text/plain": [
              "True"
            ]
          },
          "metadata": {},
          "execution_count": 11
        }
      ]
    },
    {
      "cell_type": "code",
      "source": [
        "a < b"
      ],
      "metadata": {
        "colab": {
          "base_uri": "https://localhost:8080/"
        },
        "id": "hMMcwY-bTFa6",
        "outputId": "ae6ae66d-8e46-44b9-9cb8-24062b504f78"
      },
      "execution_count": null,
      "outputs": [
        {
          "output_type": "execute_result",
          "data": {
            "text/plain": [
              "False"
            ]
          },
          "metadata": {},
          "execution_count": 12
        }
      ]
    },
    {
      "cell_type": "code",
      "source": [
        "a >= b"
      ],
      "metadata": {
        "colab": {
          "base_uri": "https://localhost:8080/"
        },
        "id": "kzLqmuhgTFeT",
        "outputId": "9a1a6b79-d640-428a-e3cd-f54aa3fb05b5"
      },
      "execution_count": null,
      "outputs": [
        {
          "output_type": "execute_result",
          "data": {
            "text/plain": [
              "True"
            ]
          },
          "metadata": {},
          "execution_count": 13
        }
      ]
    },
    {
      "cell_type": "code",
      "source": [
        "a <= b"
      ],
      "metadata": {
        "colab": {
          "base_uri": "https://localhost:8080/"
        },
        "id": "_9QIflS5XKjJ",
        "outputId": "b07bb8fd-3577-44ea-cfea-5d4468c170f4"
      },
      "execution_count": null,
      "outputs": [
        {
          "output_type": "execute_result",
          "data": {
            "text/plain": [
              "False"
            ]
          },
          "metadata": {},
          "execution_count": 14
        }
      ]
    },
    {
      "cell_type": "code",
      "source": [
        "a == b"
      ],
      "metadata": {
        "colab": {
          "base_uri": "https://localhost:8080/"
        },
        "id": "lPc15tU4XKft",
        "outputId": "6b9e1ae8-bd62-4493-d9f2-14005ce84f3c"
      },
      "execution_count": null,
      "outputs": [
        {
          "output_type": "execute_result",
          "data": {
            "text/plain": [
              "False"
            ]
          },
          "metadata": {},
          "execution_count": 15
        }
      ]
    },
    {
      "cell_type": "code",
      "source": [
        "a != b"
      ],
      "metadata": {
        "colab": {
          "base_uri": "https://localhost:8080/"
        },
        "id": "TO--k2pQXKc_",
        "outputId": "f2a2582e-3086-47c9-a83d-403c83a62369"
      },
      "execution_count": null,
      "outputs": [
        {
          "output_type": "execute_result",
          "data": {
            "text/plain": [
              "True"
            ]
          },
          "metadata": {},
          "execution_count": 16
        }
      ]
    },
    {
      "cell_type": "markdown",
      "source": [
        "**Logical** **Operators**"
      ],
      "metadata": {
        "id": "ny_WvSPvXv_s"
      }
    },
    {
      "cell_type": "markdown",
      "source": [
        "**and,**\n",
        "**or,**\n",
        "**not**"
      ],
      "metadata": {
        "id": "tg89zaBAYqbD"
      }
    },
    {
      "cell_type": "code",
      "source": [
        "a > b"
      ],
      "metadata": {
        "colab": {
          "base_uri": "https://localhost:8080/"
        },
        "id": "iqV1J4MAXKaO",
        "outputId": "2f5ca7b5-1997-4cf4-aaeb-e2a0cf4cb69b"
      },
      "execution_count": null,
      "outputs": [
        {
          "output_type": "execute_result",
          "data": {
            "text/plain": [
              "True"
            ]
          },
          "metadata": {},
          "execution_count": 18
        }
      ]
    },
    {
      "cell_type": "code",
      "source": [
        "a > 100"
      ],
      "metadata": {
        "colab": {
          "base_uri": "https://localhost:8080/"
        },
        "id": "MwIjTh0mXKXD",
        "outputId": "bd28ee42-201a-46d4-916b-5fef5f42b08a"
      },
      "execution_count": null,
      "outputs": [
        {
          "output_type": "execute_result",
          "data": {
            "text/plain": [
              "False"
            ]
          },
          "metadata": {},
          "execution_count": 17
        }
      ]
    },
    {
      "cell_type": "code",
      "source": [
        "a > b and a > 100"
      ],
      "metadata": {
        "colab": {
          "base_uri": "https://localhost:8080/"
        },
        "id": "ML0IsUJlXKUG",
        "outputId": "883d6590-0d49-4c44-9a8e-f96e4692b2d2"
      },
      "execution_count": null,
      "outputs": [
        {
          "output_type": "execute_result",
          "data": {
            "text/plain": [
              "False"
            ]
          },
          "metadata": {},
          "execution_count": 19
        }
      ]
    },
    {
      "cell_type": "code",
      "source": [
        "a > b or a > 100"
      ],
      "metadata": {
        "colab": {
          "base_uri": "https://localhost:8080/"
        },
        "id": "DZndQVY2XKRH",
        "outputId": "4027bdaf-672c-419f-f223-06b33353b651"
      },
      "execution_count": null,
      "outputs": [
        {
          "output_type": "execute_result",
          "data": {
            "text/plain": [
              "True"
            ]
          },
          "metadata": {},
          "execution_count": 20
        }
      ]
    },
    {
      "cell_type": "code",
      "source": [
        "not a > b"
      ],
      "metadata": {
        "colab": {
          "base_uri": "https://localhost:8080/"
        },
        "id": "bjuS9SlyXKOD",
        "outputId": "170ec20d-4081-4175-9d9a-3ab2bb9a6e59"
      },
      "execution_count": null,
      "outputs": [
        {
          "output_type": "execute_result",
          "data": {
            "text/plain": [
              "False"
            ]
          },
          "metadata": {},
          "execution_count": 21
        }
      ]
    },
    {
      "cell_type": "code",
      "source": [
        "print(\"True and True\", True and True)\n",
        "print(\"True and False\", True and False)\n",
        "print(\"False and True\", False and True)\n",
        "print(\"False and False\", False and False)"
      ],
      "metadata": {
        "colab": {
          "base_uri": "https://localhost:8080/"
        },
        "id": "d3aNJqrCXKLA",
        "outputId": "da3ced5c-884a-42c5-9e6a-2c116ba66742"
      },
      "execution_count": null,
      "outputs": [
        {
          "output_type": "stream",
          "name": "stdout",
          "text": [
            "True and True True\n",
            "True and False False\n",
            "False and True False\n",
            "False and False False\n"
          ]
        }
      ]
    },
    {
      "cell_type": "code",
      "source": [
        "print(\"True or True\", True or True)\n",
        "print(\"True or False\", True or False)\n",
        "print(\"False or True\", False or True)\n",
        "print(\"False or False\", False or False)"
      ],
      "metadata": {
        "colab": {
          "base_uri": "https://localhost:8080/"
        },
        "id": "XGwOsJd5a8a4",
        "outputId": "e3cd7348-2179-416c-e414-e889d71c9315"
      },
      "execution_count": null,
      "outputs": [
        {
          "output_type": "stream",
          "name": "stdout",
          "text": [
            "True or True True\n",
            "True or False True\n",
            "False or True True\n",
            "False or False False\n"
          ]
        }
      ]
    },
    {
      "cell_type": "markdown",
      "source": [
        "**Assignment**"
      ],
      "metadata": {
        "id": "0uWvKYk8fF_x"
      }
    },
    {
      "cell_type": "code",
      "source": [
        "x = 34.56\n",
        "y = 3.5"
      ],
      "metadata": {
        "id": "1-9SbJaXfKve"
      },
      "execution_count": null,
      "outputs": []
    },
    {
      "cell_type": "code",
      "source": [
        "\n",
        "x = 34.56\n",
        "y = 3.5\n",
        "\n",
        "print(\"x = \", x)\n",
        "print(\"y = \", y)\n",
        "\n",
        "x += y  # x = x + y\n",
        "print(\"x += y: \", x)\n",
        "\n",
        "x = 34.56\n",
        "x -= y  # x = x - y\n",
        "print(\"x -= y: \", x)\n",
        "\n",
        "x = 34.56\n",
        "x *= y  # x = x * y\n",
        "print(\"x *= y: \", x)\n",
        "\n",
        "x = 34.56\n",
        "x /= y  # x = x / y\n",
        "print(\"x /= y: \", x)\n",
        "\n",
        "\n",
        "x = 34.56\n",
        "x %= y  # x = x % y\n",
        "print(\"x %= y: \", x)\n",
        "\n",
        "x = 34.56\n",
        "x **= y  # x = x ** y\n",
        "print(\"x **= y: \", x)\n",
        "\n",
        "x = 34.56\n",
        "x //= y  # x = x // y\n",
        "print(\"x //= y: \", x)"
      ],
      "metadata": {
        "colab": {
          "base_uri": "https://localhost:8080/"
        },
        "id": "XuLoh9MqU9OH",
        "outputId": "a6f853af-6a15-472a-a194-39dd4463dba9"
      },
      "execution_count": null,
      "outputs": [
        {
          "output_type": "stream",
          "name": "stdout",
          "text": [
            "x =  34.56\n",
            "y =  3.5\n",
            "x += y:  38.06\n",
            "x -= y:  31.060000000000002\n",
            "x *= y:  120.96000000000001\n",
            "x /= y:  9.874285714285715\n",
            "x %= y:  3.0600000000000023\n",
            "x **= y:  242665.51770697304\n",
            "x //= y:  9.0\n"
          ]
        }
      ]
    },
    {
      "cell_type": "code",
      "source": [
        "x = 34.56\n",
        "y = 3.5\n",
        "\n",
        "print(\"x > y:\", x > y)\n",
        "print(\"x < y:\", x < y)\n",
        "print(\"x >= y:\", x >= y)\n",
        "print(\"x <= y:\", x <= y)\n",
        "print(\"x == y:\", x == y)\n",
        "print(\"x != y:\", x != y)"
      ],
      "metadata": {
        "colab": {
          "base_uri": "https://localhost:8080/"
        },
        "id": "XA7OCTa4VTfu",
        "outputId": "5b811527-8167-46b9-fe8c-d9fda06168ca"
      },
      "execution_count": null,
      "outputs": [
        {
          "output_type": "stream",
          "name": "stdout",
          "text": [
            "x > y: True\n",
            "x < y: False\n",
            "x >= y: True\n",
            "x <= y: False\n",
            "x == y: False\n",
            "x != y: True\n"
          ]
        }
      ]
    },
    {
      "cell_type": "code",
      "source": [
        "x = 34.56\n",
        "y = 3.5\n",
        "\n",
        "print(\"x > y and x > 10:\", x > y and x > 10)\n",
        "print(\"x > y or x > 10:\", x > y or x > 10)\n",
        "print(\"not x > y:\", not x > y)"
      ],
      "metadata": {
        "colab": {
          "base_uri": "https://localhost:8080/"
        },
        "id": "1xxX3nZ3Vhxg",
        "outputId": "cdf72066-8ccb-4fc1-a1b2-c3911ae7ba4c"
      },
      "execution_count": null,
      "outputs": [
        {
          "output_type": "stream",
          "name": "stdout",
          "text": [
            "x > y and x > 10: True\n",
            "x > y or x > 10: True\n",
            "not x > y: False\n"
          ]
        }
      ]
    }
  ]
}