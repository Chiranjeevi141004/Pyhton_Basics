{
  "nbformat": 4,
  "nbformat_minor": 0,
  "metadata": {
    "colab": {
      "provenance": [],
      "authorship_tag": "ABX9TyMsYz2kEeEFqOSqCivpOjjs",
      "include_colab_link": true
    },
    "kernelspec": {
      "name": "python3",
      "display_name": "Python 3"
    },
    "language_info": {
      "name": "python"
    }
  },
  "cells": [
    {
      "cell_type": "markdown",
      "metadata": {
        "id": "view-in-github",
        "colab_type": "text"
      },
      "source": [
        "<a href=\"https://colab.research.google.com/github/Chiranjeevi141004/Pyhton_Operators/blob/main/Day0.ipynb\" target=\"_parent\"><img src=\"https://colab.research.google.com/assets/colab-badge.svg\" alt=\"Open In Colab\"/></a>"
      ]
    },
    {
      "cell_type": "code",
      "execution_count": null,
      "metadata": {
        "id": "OMLRjgdzqoRR"
      },
      "outputs": [],
      "source": [
        "name =\"Chiru\"\n",
        "age=21\n",
        "height=5.11\n",
        "student = True\n",
        "institution=\"Malla Reddy University\""
      ]
    },
    {
      "cell_type": "code",
      "source": [
        "type(name)"
      ],
      "metadata": {
        "colab": {
          "base_uri": "https://localhost:8080/"
        },
        "id": "ihihZNU8tH1Z",
        "outputId": "9c19c828-ae56-4cfc-b204-7cd18b82a8bd"
      },
      "execution_count": null,
      "outputs": [
        {
          "output_type": "execute_result",
          "data": {
            "text/plain": [
              "str"
            ]
          },
          "metadata": {},
          "execution_count": 3
        }
      ]
    },
    {
      "cell_type": "code",
      "source": [
        "type(age)"
      ],
      "metadata": {
        "colab": {
          "base_uri": "https://localhost:8080/"
        },
        "id": "MEHfUGQptfeE",
        "outputId": "60e5b1cb-f3fc-42f1-98d5-fdfb21dd46fb"
      },
      "execution_count": null,
      "outputs": [
        {
          "output_type": "execute_result",
          "data": {
            "text/plain": [
              "int"
            ]
          },
          "metadata": {},
          "execution_count": 4
        }
      ]
    },
    {
      "cell_type": "code",
      "source": [
        "type(height)"
      ],
      "metadata": {
        "colab": {
          "base_uri": "https://localhost:8080/"
        },
        "id": "8cnSddlatiV8",
        "outputId": "288b1c1a-d04d-4a2b-ae79-67586395ee91"
      },
      "execution_count": null,
      "outputs": [
        {
          "output_type": "execute_result",
          "data": {
            "text/plain": [
              "float"
            ]
          },
          "metadata": {},
          "execution_count": 7
        }
      ]
    },
    {
      "cell_type": "code",
      "source": [
        "type(student)"
      ],
      "metadata": {
        "colab": {
          "base_uri": "https://localhost:8080/"
        },
        "id": "YkUxbfbntk5Q",
        "outputId": "dc62879e-0cae-41bd-ee84-70cc8aff3bb0"
      },
      "execution_count": null,
      "outputs": [
        {
          "output_type": "execute_result",
          "data": {
            "text/plain": [
              "bool"
            ]
          },
          "metadata": {},
          "execution_count": 5
        }
      ]
    },
    {
      "cell_type": "code",
      "source": [
        "type(institution)"
      ],
      "metadata": {
        "colab": {
          "base_uri": "https://localhost:8080/"
        },
        "id": "svh-7jj0tn3_",
        "outputId": "05fd43a5-4f3c-4b3b-eef4-a8393cc33393"
      },
      "execution_count": null,
      "outputs": [
        {
          "output_type": "execute_result",
          "data": {
            "text/plain": [
              "str"
            ]
          },
          "metadata": {},
          "execution_count": 6
        }
      ]
    },
    {
      "cell_type": "code",
      "source": [
        "a=8.5"
      ],
      "metadata": {
        "id": "LWxVddmlwyRw"
      },
      "execution_count": null,
      "outputs": []
    },
    {
      "cell_type": "code",
      "source": [
        "b = int(a)\n",
        "b"
      ],
      "metadata": {
        "colab": {
          "base_uri": "https://localhost:8080/"
        },
        "id": "JGJQdmfExftg",
        "outputId": "e7bf13c9-b76f-4663-ccfb-897ee798b740"
      },
      "execution_count": null,
      "outputs": [
        {
          "output_type": "execute_result",
          "data": {
            "text/plain": [
              "8"
            ]
          },
          "metadata": {},
          "execution_count": 14
        }
      ]
    },
    {
      "cell_type": "code",
      "source": [
        "type(b)"
      ],
      "metadata": {
        "colab": {
          "base_uri": "https://localhost:8080/"
        },
        "id": "83gbcinIxucs",
        "outputId": "efb63ebc-eb33-4fdf-fa64-66652bc27347"
      },
      "execution_count": null,
      "outputs": [
        {
          "output_type": "execute_result",
          "data": {
            "text/plain": [
              "int"
            ]
          },
          "metadata": {},
          "execution_count": 15
        }
      ]
    },
    {
      "cell_type": "code",
      "source": [
        "c = 5"
      ],
      "metadata": {
        "id": "5jemLBk0x0Zw"
      },
      "execution_count": null,
      "outputs": []
    },
    {
      "cell_type": "code",
      "source": [
        "y = float(c)"
      ],
      "metadata": {
        "id": "nUnaNKc4x0Wa"
      },
      "execution_count": null,
      "outputs": []
    },
    {
      "cell_type": "code",
      "source": [
        "y"
      ],
      "metadata": {
        "colab": {
          "base_uri": "https://localhost:8080/"
        },
        "id": "M-AtToIDx0TB",
        "outputId": "668d383e-4b27-463e-fc85-397b78e217bf"
      },
      "execution_count": null,
      "outputs": [
        {
          "output_type": "execute_result",
          "data": {
            "text/plain": [
              "5.0"
            ]
          },
          "metadata": {},
          "execution_count": 18
        }
      ]
    },
    {
      "cell_type": "code",
      "source": [
        "type(y)"
      ],
      "metadata": {
        "colab": {
          "base_uri": "https://localhost:8080/"
        },
        "id": "s6agd_IPx0Pq",
        "outputId": "ef09aaf9-83ee-4496-a663-bc0247222f01"
      },
      "execution_count": null,
      "outputs": [
        {
          "output_type": "execute_result",
          "data": {
            "text/plain": [
              "float"
            ]
          },
          "metadata": {},
          "execution_count": 19
        }
      ]
    },
    {
      "cell_type": "code",
      "source": [
        "s=7\n",
        "type(s)"
      ],
      "metadata": {
        "colab": {
          "base_uri": "https://localhost:8080/"
        },
        "id": "VVZMc2eNxz_J",
        "outputId": "bdf62125-21d3-465b-a60e-30e467512f7c"
      },
      "execution_count": null,
      "outputs": [
        {
          "output_type": "execute_result",
          "data": {
            "text/plain": [
              "int"
            ]
          },
          "metadata": {},
          "execution_count": 20
        }
      ]
    },
    {
      "cell_type": "code",
      "source": [
        "str(s)"
      ],
      "metadata": {
        "colab": {
          "base_uri": "https://localhost:8080/",
          "height": 36
        },
        "id": "Qnszr7oBxz7y",
        "outputId": "d5b138aa-a4dc-492c-fde0-04ac140ffe6e"
      },
      "execution_count": null,
      "outputs": [
        {
          "output_type": "execute_result",
          "data": {
            "text/plain": [
              "'7'"
            ],
            "application/vnd.google.colaboratory.intrinsic+json": {
              "type": "string"
            }
          },
          "metadata": {},
          "execution_count": 21
        }
      ]
    },
    {
      "cell_type": "code",
      "source": [
        "b=\"4\"\n",
        "int(b)"
      ],
      "metadata": {
        "colab": {
          "base_uri": "https://localhost:8080/"
        },
        "id": "y8yAn3yexz5C",
        "outputId": "8b227efb-64cc-4950-eafa-d43b2abd9c38"
      },
      "execution_count": null,
      "outputs": [
        {
          "output_type": "execute_result",
          "data": {
            "text/plain": [
              "4"
            ]
          },
          "metadata": {},
          "execution_count": 22
        }
      ]
    },
    {
      "cell_type": "code",
      "source": [
        "def is_equivalence_relation(set_elements, relation):\n",
        "    # Check Reflexivity\n",
        "    for element in set_elements:\n",
        "        if (element, element) not in relation:\n",
        "            print(\"The relation is not reflexive.\")\n",
        "            return False\n",
        "\n",
        "    # Check Symmetry\n",
        "    for a, b in relation:\n",
        "        if (b, a) not in relation:\n",
        "            print(\"The relation is not symmetric.\")\n",
        "            return False\n",
        "\n",
        "    # Check Transitivity\n",
        "    for a, b in relation:\n",
        "        for c, d in relation:\n",
        "            if b == c and (a, d) not in relation:\n",
        "                print(\"The relation is not transitive.\")\n",
        "                return False\n",
        "\n",
        "    print(\"The relation is an equivalence relation.\")\n",
        "    return True\n",
        "\n",
        "# Example Usage\n",
        "set_elements = {1, 2, 3}  # Set elements\n",
        "relation = {(1, 1), (2, 2), (3, 3), (1, 2), (2, 1)}  # Relation\n",
        "\n",
        "is_equivalence_relation(set_elements, relation)"
      ],
      "metadata": {
        "id": "yXwUwl3ixzmp",
        "colab": {
          "base_uri": "https://localhost:8080/"
        },
        "outputId": "89c19ae2-be22-48b5-a1bf-8ac3f97b6998"
      },
      "execution_count": null,
      "outputs": [
        {
          "output_type": "stream",
          "name": "stdout",
          "text": [
            "The relation is an equivalence relation.\n"
          ]
        },
        {
          "output_type": "execute_result",
          "data": {
            "text/plain": [
              "True"
            ]
          },
          "metadata": {},
          "execution_count": 3
        }
      ]
    },
    {
      "cell_type": "code",
      "source": [
        "def is_equivalence_relation(set_elements, relation):\n",
        "    # Check Reflexivity\n",
        "    for element in set_elements:\n",
        "        if (element, element) not in relation:\n",
        "            print(\"The relation is not reflexive.\")\n",
        "            return False\n",
        "\n",
        "    # Check Symmetry\n",
        "    for a, b in relation:\n",
        "        if (b, a) not in relation:\n",
        "            print(\"The relation is not symmetric.\")\n",
        "            return False\n",
        "\n",
        "    # Check Transitivity\n",
        "    for a, b in relation:\n",
        "        for c, d in relation:\n",
        "            if b == c and (a, d) not in relation:\n",
        "                print(\"The relation is not transitive.\")\n",
        "                return False\n",
        "\n",
        "    print(\"The relation is an equivalence relation.\")\n",
        "    return True\n",
        "\n",
        "# Get user input for set elements\n",
        "set_elements = set(map(int, input(\"Enter the set elements separated by space: \").split()))\n",
        "\n",
        "# Get user input for relation\n",
        "relation = set()\n",
        "n = int(input(\"Enter the number of pairs in the relation: \"))\n",
        "for _ in range(n):\n",
        "    a, b = map(int, input(\"Enter a pair (a b): \").split())\n",
        "    relation.add((a, b))\n",
        "\n",
        "# Check if the relation is an equivalence relation\n",
        "is_equivalence_relation(set_elements, relation)\n"
      ],
      "metadata": {
        "id": "MZa_D7_bxzjf",
        "colab": {
          "base_uri": "https://localhost:8080/"
        },
        "outputId": "438c8456-5256-43f9-dd1d-41cf635976fa"
      },
      "execution_count": null,
      "outputs": [
        {
          "output_type": "stream",
          "name": "stdout",
          "text": [
            "Enter the set elements separated by space: 1 2 3 4 5 6\n",
            "Enter the number of pairs in the relation: 3\n",
            "Enter a pair (a b): 1 2\n",
            "Enter a pair (a b): 2 1\n",
            "Enter a pair (a b): 1 1\n",
            "The relation is not reflexive.\n"
          ]
        },
        {
          "output_type": "execute_result",
          "data": {
            "text/plain": [
              "False"
            ]
          },
          "metadata": {},
          "execution_count": 5
        }
      ]
    },
    {
      "cell_type": "code",
      "source": [
        "def is_equivalence_relation(set_elements, relation):\n",
        "    # Check Reflexivity\n",
        "    for element in set_elements:\n",
        "        if (element, element) not in relation:\n",
        "            print(\"The relation is not reflexive.\")\n",
        "            return False\n",
        "\n",
        "    # Check Symmetry\n",
        "    for a, b in relation:\n",
        "        if (b, a) not in relation:\n",
        "            print(\"The relation is not symmetric.\")\n",
        "            return False\n",
        "\n",
        "    # Check Transitivity\n",
        "    for a, b in relation:\n",
        "        for c, d in relation:\n",
        "            if b == c and (a, d) not in relation:\n",
        "                print(\"The relation is not transitive.\")\n",
        "                return False\n",
        "\n",
        "    print(\"The relation is an equivalence relation.\")\n",
        "    return True\n",
        "\n",
        "# Get user input for set elements\n",
        "set_elements = set(map(int, input(\"Enter the set elements separated by space: \").split()))\n",
        "\n",
        "# Get user input for relation\n",
        "relation_input = input(\"Enter the pairs in the relation separated by space (e.g. '1 2 2 1'): \")\n",
        "relation_list = list(map(int, relation_input.split()))\n",
        "relation = set((relation_list[i], relation_list[i + 1]) for i in range(0, len(relation_list), 2))\n",
        "\n",
        "# Check if the relation is an equivalence relation\n",
        "is_equivalence_relation(set_elements, relation)\n"
      ],
      "metadata": {
        "colab": {
          "base_uri": "https://localhost:8080/"
        },
        "id": "Y1y16L9rHvPB",
        "outputId": "2b6c136f-3965-4b28-bdf9-932fbe67cd39"
      },
      "execution_count": null,
      "outputs": [
        {
          "output_type": "stream",
          "name": "stdout",
          "text": [
            "Enter the set elements separated by space: 1 2 3 4 5\n",
            "Enter the pairs in the relation separated by space (e.g. '1 2 2 1'): 1 2 2 1 1 1 2 2\n",
            "The relation is not reflexive.\n"
          ]
        },
        {
          "output_type": "execute_result",
          "data": {
            "text/plain": [
              "False"
            ]
          },
          "metadata": {},
          "execution_count": 6
        }
      ]
    },
    {
      "cell_type": "code",
      "source": [
        "def is_equivalence_relation(set_elements, relation):\n",
        "    # Check Reflexivity\n",
        "    for element in set_elements:\n",
        "        if (element, element) not in relation:\n",
        "            print(\"The relation is not reflexive.\")\n",
        "            return False\n",
        "\n",
        "    # Check Symmetry\n",
        "    for a, b in relation:\n",
        "        if (b, a) not in relation:\n",
        "            print(\"The relation is not symmetric.\")\n",
        "            return False\n",
        "\n",
        "    # Check Transitivity\n",
        "    for a, b in relation:\n",
        "        for c, d in relation:\n",
        "            if b == c and (a, d) not in relation:\n",
        "                print(\"The relation is not transitive.\")\n",
        "                return False\n",
        "\n",
        "    print(\"The relation is an equivalence relation.\")\n",
        "    return True\n",
        "\n",
        "# Get user input for set elements\n",
        "set_elements = set(map(int, input(\"Enter the set elements: \").split(',')))\n",
        "\n",
        "# Get user input for relation\n",
        "relation_input = input(\"Enter the pairs in the relation separated by parentheses (e.g., '(1,2) (2,1)'): \")\n",
        "relation = set(eval(pair) for pair in relation_input.split())\n",
        "\n",
        "# Check if the relation is an equivalence relation\n",
        "if is_equivalence_relation(set_elements, relation):\n",
        "    print(\"The relation is an equivalence relation.\")\n",
        "else:\n",
        "    print(\"The relation is not equivalence relation\")\n"
      ],
      "metadata": {
        "id": "HgKdch5WH-ib"
      },
      "execution_count": null,
      "outputs": []
    }
  ]
}