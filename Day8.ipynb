{
  "nbformat": 4,
  "nbformat_minor": 0,
  "metadata": {
    "colab": {
      "provenance": [],
      "authorship_tag": "ABX9TyMuMWP3wahgUm1Hsgb4h+MS",
      "include_colab_link": true
    },
    "kernelspec": {
      "name": "python3",
      "display_name": "Python 3"
    },
    "language_info": {
      "name": "python"
    }
  },
  "cells": [
    {
      "cell_type": "markdown",
      "metadata": {
        "id": "view-in-github",
        "colab_type": "text"
      },
      "source": [
        "<a href=\"https://colab.research.google.com/github/Chiranjeevi141004/Python_Basics/blob/main/Day8.ipynb\" target=\"_parent\"><img src=\"https://colab.research.google.com/assets/colab-badge.svg\" alt=\"Open In Colab\"/></a>"
      ]
    },
    {
      "cell_type": "code",
      "execution_count": null,
      "metadata": {
        "id": "A5tqL8eNgHb0"
      },
      "outputs": [],
      "source": [
        "y = \"MallA reddy 2025\""
      ]
    },
    {
      "cell_type": "code",
      "source": [
        "x = y.lower()\n",
        "x.count('a')"
      ],
      "metadata": {
        "colab": {
          "base_uri": "https://localhost:8080/"
        },
        "id": "D1ao2GjfhJqM",
        "outputId": "6fc287cf-e988-4584-ca98-538e47c1e2ef"
      },
      "execution_count": null,
      "outputs": [
        {
          "output_type": "execute_result",
          "data": {
            "text/plain": [
              "2"
            ]
          },
          "metadata": {},
          "execution_count": 4
        }
      ]
    },
    {
      "cell_type": "markdown",
      "source": [
        "use return to return datatype,\n",
        "using print will not return datatype\n"
      ],
      "metadata": {
        "id": "eQ42FAE3lkxM"
      }
    },
    {
      "cell_type": "code",
      "source": [
        "def calArea(a):\n",
        "  area =3.14*a*a\n",
        "  return area"
      ],
      "metadata": {
        "id": "r_rXviKjjfLf"
      },
      "execution_count": 7,
      "outputs": []
    },
    {
      "cell_type": "code",
      "source": [
        "calArea(30)"
      ],
      "metadata": {
        "colab": {
          "base_uri": "https://localhost:8080/"
        },
        "id": "CfWiGNjyjuN9",
        "outputId": "3b0e57be-a951-43d6-fbf7-7413184371d1"
      },
      "execution_count": 8,
      "outputs": [
        {
          "output_type": "execute_result",
          "data": {
            "text/plain": [
              "2826.0"
            ]
          },
          "metadata": {},
          "execution_count": 8
        }
      ]
    },
    {
      "cell_type": "code",
      "source": [
        "def calArea(a):\n",
        "  area =3.14*a*a\n",
        "  print(area)"
      ],
      "metadata": {
        "id": "8SQZI3Vok9cZ"
      },
      "execution_count": 9,
      "outputs": []
    },
    {
      "cell_type": "code",
      "source": [
        "calArea(4)"
      ],
      "metadata": {
        "colab": {
          "base_uri": "https://localhost:8080/"
        },
        "id": "ZV8Utbzll8hG",
        "outputId": "902e9e8c-32d6-44f2-9882-8e8b71bf27ad"
      },
      "execution_count": 10,
      "outputs": [
        {
          "output_type": "stream",
          "name": "stdout",
          "text": [
            "50.24\n"
          ]
        }
      ]
    },
    {
      "cell_type": "code",
      "source": [
        "def rectArea(a,b):\n",
        "  area = a*b\n",
        "  return area"
      ],
      "metadata": {
        "id": "PHFgQrRvmBz_"
      },
      "execution_count": 12,
      "outputs": []
    },
    {
      "cell_type": "code",
      "source": [
        "rectArea(3,4)"
      ],
      "metadata": {
        "colab": {
          "base_uri": "https://localhost:8080/"
        },
        "id": "LfsBX2bOmOCn",
        "outputId": "1638150b-75b5-4445-bde6-fdd7fb48d1ca"
      },
      "execution_count": 13,
      "outputs": [
        {
          "output_type": "execute_result",
          "data": {
            "text/plain": [
              "12"
            ]
          },
          "metadata": {},
          "execution_count": 13
        }
      ]
    },
    {
      "cell_type": "code",
      "source": [
        "def Area(r,a,b):\n",
        "  circle_area = 3.14*r*r\n",
        "  rectangle_area = a*b\n",
        "  return {\"circle area \":circle_area,\"rectangle area\":rectangle_area}\n"
      ],
      "metadata": {
        "id": "qTY7JzL5nuY2"
      },
      "execution_count": 28,
      "outputs": []
    },
    {
      "cell_type": "code",
      "source": [
        "Area(4,5,6)"
      ],
      "metadata": {
        "colab": {
          "base_uri": "https://localhost:8080/"
        },
        "id": "fBvIQowtokcU",
        "outputId": "f4e3f8a6-14fe-484c-ac15-18a605542455"
      },
      "execution_count": 29,
      "outputs": [
        {
          "output_type": "execute_result",
          "data": {
            "text/plain": [
              "{'circle area ': 50.24, 'rectangle area': 30}"
            ]
          },
          "metadata": {},
          "execution_count": 29
        }
      ]
    },
    {
      "cell_type": "code",
      "source": [
        "t = 'HyderabAAd'"
      ],
      "metadata": {
        "id": "M7mPpGEtpqFc"
      },
      "execution_count": 30,
      "outputs": []
    },
    {
      "cell_type": "code",
      "source": [
        "def count_A(t):\n",
        "  t = t.lower()\n",
        "  a = t.count('a')\n",
        "  return a"
      ],
      "metadata": {
        "id": "0B6e2u6lrEXO"
      },
      "execution_count": 39,
      "outputs": []
    },
    {
      "cell_type": "code",
      "source": [
        "def count_Aa(t):\n",
        "  a = t.count('A')\n",
        "  b = t.count('a')\n",
        "  return {\"A\":a,\"a\":b}"
      ],
      "metadata": {
        "id": "xN-wW7WSpzwc"
      },
      "execution_count": 40,
      "outputs": []
    },
    {
      "cell_type": "code",
      "source": [
        "count_A(t)"
      ],
      "metadata": {
        "colab": {
          "base_uri": "https://localhost:8080/"
        },
        "id": "D29pwcRtqHPp",
        "outputId": "27424203-8e5d-4e82-8ab5-49d97c854679"
      },
      "execution_count": 41,
      "outputs": [
        {
          "output_type": "execute_result",
          "data": {
            "text/plain": [
              "3"
            ]
          },
          "metadata": {},
          "execution_count": 41
        }
      ]
    },
    {
      "cell_type": "code",
      "source": [
        "count_Aa(t)"
      ],
      "metadata": {
        "colab": {
          "base_uri": "https://localhost:8080/"
        },
        "id": "iz-dNQTHrC_x",
        "outputId": "2b92fbd5-1d32-4075-ccee-3d56a71d730f"
      },
      "execution_count": 42,
      "outputs": [
        {
          "output_type": "execute_result",
          "data": {
            "text/plain": [
              "{'A': 2, 'a': 1}"
            ]
          },
          "metadata": {},
          "execution_count": 42
        }
      ]
    },
    {
      "cell_type": "code",
      "source": [
        "x = \"HyderabAAd 500008 Telangana\""
      ],
      "metadata": {
        "id": "OJtectherd89"
      },
      "execution_count": 43,
      "outputs": []
    },
    {
      "cell_type": "code",
      "source": [
        "def count_num_alpha(x):\n",
        "  v = 0\n",
        "  w = 0\n",
        "  for i in x:\n",
        "    if i.isalpha():\n",
        "      v+=1\n",
        "    else:\n",
        "      w+=1\n",
        "  return {\"letter\":v,\"number\":w}"
      ],
      "metadata": {
        "id": "Lk41pYYurC1W"
      },
      "execution_count": 47,
      "outputs": []
    },
    {
      "cell_type": "code",
      "source": [
        "def seperate_num_letter(x):\n",
        "  v = []\n",
        "  w = []\n",
        "  for i in x:\n",
        "    if i.isalpha():\n",
        "      v.append(i)\n",
        "    else:\n",
        "      w.append(i)\n",
        "  return {\"letter\":v,\"number\":w}"
      ],
      "metadata": {
        "id": "Piw9LIHyrC8K"
      },
      "execution_count": 49,
      "outputs": []
    },
    {
      "cell_type": "code",
      "source": [
        "count_num_alpha(x)"
      ],
      "metadata": {
        "colab": {
          "base_uri": "https://localhost:8080/"
        },
        "id": "IN0POOyOrCyc",
        "outputId": "592c2ef7-645a-4ad8-8269-cde373e30c47"
      },
      "execution_count": 48,
      "outputs": [
        {
          "output_type": "execute_result",
          "data": {
            "text/plain": [
              "{'letter': 19, 'number': 8}"
            ]
          },
          "metadata": {},
          "execution_count": 48
        }
      ]
    },
    {
      "cell_type": "code",
      "source": [
        "seperate_num_letter(x)"
      ],
      "metadata": {
        "colab": {
          "base_uri": "https://localhost:8080/"
        },
        "id": "uz36z_PbrCvD",
        "outputId": "2367a6e7-a40a-4ff2-d700-0b87958bee50"
      },
      "execution_count": 50,
      "outputs": [
        {
          "output_type": "execute_result",
          "data": {
            "text/plain": [
              "{'letter': ['H',\n",
              "  'y',\n",
              "  'd',\n",
              "  'e',\n",
              "  'r',\n",
              "  'a',\n",
              "  'b',\n",
              "  'A',\n",
              "  'A',\n",
              "  'd',\n",
              "  'T',\n",
              "  'e',\n",
              "  'l',\n",
              "  'a',\n",
              "  'n',\n",
              "  'g',\n",
              "  'a',\n",
              "  'n',\n",
              "  'a'],\n",
              " 'number': [' ', '5', '0', '0', '0', '0', '8', ' ']}"
            ]
          },
          "metadata": {},
          "execution_count": 50
        }
      ]
    },
    {
      "cell_type": "code",
      "source": [],
      "metadata": {
        "id": "M-NNsYdgrCr6"
      },
      "execution_count": null,
      "outputs": []
    },
    {
      "cell_type": "code",
      "source": [],
      "metadata": {
        "id": "8eVyJ7aSrCXm"
      },
      "execution_count": null,
      "outputs": []
    }
  ]
}