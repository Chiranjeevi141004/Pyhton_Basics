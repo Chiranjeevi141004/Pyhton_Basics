{
  "nbformat": 4,
  "nbformat_minor": 0,
  "metadata": {
    "colab": {
      "provenance": [],
      "authorship_tag": "ABX9TyPUu5YZ7dlH5JYnUTlQ0EqP",
      "include_colab_link": true
    },
    "kernelspec": {
      "name": "python3",
      "display_name": "Python 3"
    },
    "language_info": {
      "name": "python"
    }
  },
  "cells": [
    {
      "cell_type": "markdown",
      "metadata": {
        "id": "view-in-github",
        "colab_type": "text"
      },
      "source": [
        "<a href=\"https://colab.research.google.com/github/Chiranjeevi141004/Pyhton_Basics/blob/main/Day1_4_Assignments.ipynb\" target=\"_parent\"><img src=\"https://colab.research.google.com/assets/colab-badge.svg\" alt=\"Open In Colab\"/></a>"
      ]
    },
    {
      "cell_type": "markdown",
      "source": [
        "**Day1 assignment**"
      ],
      "metadata": {
        "id": "BnpliHfww6zo"
      }
    },
    {
      "cell_type": "code",
      "execution_count": 2,
      "metadata": {
        "colab": {
          "base_uri": "https://localhost:8080/"
        },
        "id": "kBkS-t_NvEXr",
        "outputId": "5f7ad6bb-5632-4ad2-a5df-8fcc591bbd0f"
      },
      "outputs": [
        {
          "output_type": "stream",
          "name": "stdout",
          "text": [
            "<class 'int'>\n",
            "<class 'float'>\n",
            "<class 'str'>\n",
            "<class 'bool'>\n"
          ]
        }
      ],
      "source": [
        "# Write a program in Jupyter Notebook to declare variables of different data types (integer, float, string, and boolean). Print each variable and its type.\n",
        "\n",
        "a = 10\n",
        "b = 3.14\n",
        "c = \"Hello, world!\"\n",
        "d = True\n",
        "print(type(a))\n",
        "print(type(b))\n",
        "print(type(c))\n",
        "print(type(d))"
      ]
    },
    {
      "cell_type": "markdown",
      "source": [
        "**Day2 Assignment**"
      ],
      "metadata": {
        "id": "8DlHnoj7xBCj"
      }
    },
    {
      "cell_type": "code",
      "source": [
        "# Create a List, tuple and Dictionary with 5 elements in it and how to access few elements based on the index. Try  with different examples\n",
        "lst = [10, 20, 30, 40, 50]\n",
        "lst.insert(1, 15)\n",
        "lst.append(60)\n",
        "removed_element = lst.pop(2)\n",
        "lst.remove(50)\n",
        "\n",
        "print(lst)\n",
        "print(lst[0])\n",
        "print(lst[-1])\n",
        "print(lst[1:4])\n",
        "\n",
        "tup = (10, 20, 30, 40, 50)\n",
        "new_tup = tup + (60,)\n",
        "\n",
        "print(tup[1])\n",
        "print(tup[2:])\n",
        "print(new_tup)\n",
        "\n",
        "dict_ = {\n",
        "    \"apple\": 1,\n",
        "    \"banana\": 2,\n",
        "    \"cherry\": 3,\n",
        "    \"date\": 4,\n",
        "    \"elderberry\": 5\n",
        "}\n",
        "dict_[\"fig\"] = 6\n",
        "del dict_[\"banana\"]\n",
        "popped_value = dict_.pop(\"date\")\n",
        "\n",
        "print(dict_[\"apple\"])\n",
        "print(dict_.get(\"fig\"))\n",
        "print(dict_[\"apple\"], dict_[\"cherry\"])\n",
        "print(dict_)\n"
      ],
      "metadata": {
        "colab": {
          "base_uri": "https://localhost:8080/"
        },
        "id": "pKmDXQijxHGT",
        "outputId": "c6c53772-cf76-4ee4-c67c-1d8ef86e6483"
      },
      "execution_count": 5,
      "outputs": [
        {
          "output_type": "stream",
          "name": "stdout",
          "text": [
            "[10, 15, 30, 40, 60]\n",
            "10\n",
            "60\n",
            "[15, 30, 40]\n",
            "20\n",
            "(30, 40, 50)\n",
            "(10, 20, 30, 40, 50, 60)\n",
            "1\n",
            "6\n",
            "1 3\n",
            "{'apple': 1, 'cherry': 3, 'elderberry': 5, 'fig': 6}\n"
          ]
        }
      ]
    },
    {
      "cell_type": "markdown",
      "source": [
        "**Day3 Assignment**"
      ],
      "metadata": {
        "id": "F6QMmHMOzYZy"
      }
    },
    {
      "cell_type": "code",
      "source": [
        "# Write a Python program that takes a student's marks in three subjects as input.\n",
        "#If the average is greater than or equal to 90, print \"Grade: A\".\n",
        "#If the average is between 80 and 89, print \"Grade: B\".\n",
        "#If the average is between 70 and 79, print \"Grade: C\".\n",
        "#Otherwise, print \"Grade: Fail\".\n",
        "\n",
        "mark1 = int(input(\"Enter the marks for subject 1: \"))\n",
        "mark2 = int(input(\"Enter the marks for subject 2: \"))\n",
        "mark3 = int(input(\"Enter the marks for subject 3: \"))\n",
        "average = (mark1 + mark2 + mark3) / 3.0\n",
        "if average >= 90:\n",
        "    print(\"Grade: A\")\n",
        "elif 80 <= average < 90:\n",
        "    print(\"Grade: B\")\n",
        "elif 70 <= average < 80:\n",
        "    print(\"Grade: C\")\n",
        "else:\n",
        "    print(\"Grade: Fail\")\n",
        "\n",
        "print(f\"The average is: {average:.2f}\")\n"
      ],
      "metadata": {
        "colab": {
          "base_uri": "https://localhost:8080/"
        },
        "id": "Tjh3qI7vzdzr",
        "outputId": "f40d11d4-261e-4801-eadc-1bd41bda4484"
      },
      "execution_count": 6,
      "outputs": [
        {
          "output_type": "stream",
          "name": "stdout",
          "text": [
            "Enter the marks for subject 1: 67\n",
            "Enter the marks for subject 2: 76\n",
            "Enter the marks for subject 3: 67\n",
            "Grade: C\n",
            "The average is: 70.00\n"
          ]
        }
      ]
    },
    {
      "cell_type": "markdown",
      "source": [
        "**Day4 Assignment**"
      ],
      "metadata": {
        "id": "a8sinDdB0bsg"
      }
    },
    {
      "cell_type": "code",
      "source": [
        "# Write a Python program to calculate the sum of all even numbers between 1 and a given positive integer n\n",
        "n = int(input(\"Enter a positive integer: \"))\n",
        "sum = 0\n",
        "\n",
        "for i in range(1, n + 1):\n",
        "    if i % 2 == 0:\n",
        "        sum += i\n",
        "print(f\"The sum of all even numbers between 1 and {n} is: {sum}\")\n",
        "\n"
      ],
      "metadata": {
        "colab": {
          "base_uri": "https://localhost:8080/"
        },
        "id": "eBu42Ziz0hyE",
        "outputId": "0f73f614-e380-40ca-e686-ecc42623a7b6"
      },
      "execution_count": 7,
      "outputs": [
        {
          "output_type": "stream",
          "name": "stdout",
          "text": [
            "Enter a positive integer: 8\n",
            "The sum of all even numbers between 1 and 8 is: 20\n"
          ]
        }
      ]
    }
  ]
}